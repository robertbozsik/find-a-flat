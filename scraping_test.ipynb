{
 "cells": [
  {
   "cell_type": "code",
   "execution_count": 31,
   "id": "neutral-parameter",
   "metadata": {},
   "outputs": [],
   "source": [
    "from bs4 import BeautifulSoup\n",
    "import requests"
   ]
  },
  {
   "cell_type": "code",
   "execution_count": 32,
   "id": "pleased-watson",
   "metadata": {},
   "outputs": [],
   "source": [
    "headers_dict = {\n",
    "    'User-Agent': 'Mozilla/5.0 (Macintosh; Intel Mac OS X 10_15_7) AppleWebKit/537.36 (KHTML, like Gecko) Chrome/86.0.4240.183 Safari/537.36',\n",
    "    'Accept-Language': 'en-GB,en-US;q=0.9,en;q=0.8',\n",
    "    'Accept-Encoding': 'gzip, deflate, br',\n",
    "    'Accept': 'test/html,application/xhtml+xml,application/xml;q=0.9,*/*;q=0.8',\n",
    "    'Referer': 'https://www.google.com/',\n",
    "}"
   ]
  },
  {
   "cell_type": "code",
   "execution_count": 33,
   "id": "requested-advocate",
   "metadata": {},
   "outputs": [],
   "source": [
    "url = \"https://www.kleinanzeigen.de/s-wohnung-mieten/friedenau/anzeige:angebote/preis::1400/c203l3414+wohnung_mieten.qm_d:65.00%2C+wohnung_mieten.swap_s:nein+wohnung_mieten.zimmer_d:2.5%2C\""
   ]
  },
  {
   "cell_type": "code",
   "execution_count": 34,
   "id": "korean-springer",
   "metadata": {},
   "outputs": [],
   "source": [
    "url = \"https://www.kleinanzeigen.de/s-wohnung-mieten/friedenau/preis::1500/wohnung/k0c203l17083+wohnung_mieten.qm_d:65%2C+wohnung_mieten.zimmer_d:2.5%2C\""
   ]
  },
  {
   "cell_type": "code",
   "execution_count": 35,
   "id": "modular-jacob",
   "metadata": {},
   "outputs": [],
   "source": [
    "res = (\n",
    "    requests.get(\n",
    "        url=url,\n",
    "        headers=headers_dict,\n",
    "    )\n",
    ")"
   ]
  },
  {
   "cell_type": "code",
   "execution_count": 36,
   "id": "handed-kingdom",
   "metadata": {},
   "outputs": [],
   "source": [
    "soup = BeautifulSoup(res.content, 'html.parser')"
   ]
  },
  {
   "cell_type": "code",
   "execution_count": 37,
   "id": "urban-local",
   "metadata": {},
   "outputs": [],
   "source": [
    "articles = soup.find_all(\"article\", class_=\"aditem\")"
   ]
  },
  {
   "cell_type": "code",
   "execution_count": 38,
   "id": "royal-starter",
   "metadata": {},
   "outputs": [
    {
     "data": {
      "text/plain": [
       "13"
      ]
     },
     "execution_count": 38,
     "metadata": {},
     "output_type": "execute_result"
    }
   ],
   "source": [
    "len(articles)"
   ]
  },
  {
   "cell_type": "code",
   "execution_count": 39,
   "id": "assured-library",
   "metadata": {},
   "outputs": [
    {
     "name": "stdout",
     "output_type": "stream",
     "text": [
      "2561075232\n",
      "2555628551\n",
      "2532944199\n",
      "2536109668\n",
      "2556273154\n",
      "2519925143\n",
      "2549441330\n",
      "2517153180\n",
      "2539636650\n",
      "2555914687\n",
      "2548463960\n",
      "2520979122\n",
      "2539558768\n"
     ]
    }
   ],
   "source": [
    "for article in articles:\n",
    "    ad_id = article.get(\"data-adid\")\n",
    "    print(ad_id)"
   ]
  },
  {
   "cell_type": "code",
   "execution_count": 41,
   "id": "normal-replica",
   "metadata": {},
   "outputs": [
    {
     "name": "stdout",
     "output_type": "stream",
     "text": [
      "2561075232\n",
      "2555628551\n",
      "3 Zimmer Wohnung 05.01.-29.02.24 in Friedenau\n",
      "https://www.kleinanzeigen.de//s-anzeige/3-zimmer-wohnung-05-01-29-02-24-in-friedenau/2555628551-203-17085\n",
      "2532944199\n",
      "2536109668\n",
      "2556273154\n",
      "2519925143\n",
      "4 Zimmer Wohnung\n",
      "https://www.kleinanzeigen.de//s-anzeige/4-zimmer-wohnung/2519925143-203-17084\n",
      "2549441330\n",
      "2517153180\n",
      "2539636650\n",
      "2555914687\n",
      "2548463960\n",
      "2520979122\n",
      "2539558768\n",
      "3-Zi, 80 qm, Lankwitz, 1200 € warm, süd-west-Ausricht. Balkon\n",
      "https://www.kleinanzeigen.de//s-anzeige/3-zi-80-qm-lankwitz-1200-warm-sued-west-ausricht-balkon/2539558768-203-3426\n"
     ]
    }
   ],
   "source": [
    "exclude_keywords = [\"untermiete\", \"sublet\", \"tausch\", \"suche\", \"gesucht\", \"sucht\", \"zwichenmiete\"]\n",
    "\n",
    "for article in articles:\n",
    "    \n",
    "    ad_id = article.get(\"data-adid\")\n",
    "    print(ad_id)\n",
    "    \n",
    "    h2_tags = article.find_all(\"h2\", class_=\"text-module-begin\")\n",
    "    for h2_tag in h2_tags:\n",
    "        links = h2_tag.find_all(\"a\")\n",
    "    \n",
    "        for link in links:\n",
    "            link_text = link.get_text(strip=True)\n",
    "            link_text_lowered = link_text.lower()\n",
    "            href_value = link.get(\"href\")\n",
    "            \n",
    "            if not any(keyword in link_text_lowered for keyword in exclude_keywords):\n",
    "                print(link_text)\n",
    "                print(f\"https://www.kleinanzeigen.de/{href_value}\")\n"
   ]
  },
  {
   "cell_type": "code",
   "execution_count": null,
   "id": "loving-washington",
   "metadata": {},
   "outputs": [],
   "source": []
  }
 ],
 "metadata": {
  "kernelspec": {
   "display_name": "FIND_A_FLAT",
   "language": "python",
   "name": "find_a_flat"
  },
  "language_info": {
   "codemirror_mode": {
    "name": "ipython",
    "version": 3
   },
   "file_extension": ".py",
   "mimetype": "text/x-python",
   "name": "python",
   "nbconvert_exporter": "python",
   "pygments_lexer": "ipython3",
   "version": "3.8.5"
  }
 },
 "nbformat": 4,
 "nbformat_minor": 5
}
